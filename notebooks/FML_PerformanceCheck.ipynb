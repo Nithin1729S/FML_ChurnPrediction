{
  "nbformat": 4,
  "nbformat_minor": 0,
  "metadata": {
    "colab": {
      "provenance": [],
      "toc_visible": true
    },
    "kernelspec": {
      "name": "python3",
      "display_name": "Python 3"
    },
    "language_info": {
      "name": "python"
    }
  },
  "cells": [
    {
      "cell_type": "code",
      "execution_count": null,
      "metadata": {
        "id": "O17d8Jo4eKwn"
      },
      "outputs": [],
      "source": [
        "import kagglehub\n",
        "import pandas as pd\n",
        "import os\n",
        "import numpy as np\n",
        "import matplotlib.pyplot as plt\n",
        "import seaborn as sns\n",
        "from sklearn.impute import SimpleImputer\n",
        "from sklearn.preprocessing import LabelEncoder, MinMaxScaler, StandardScaler\n",
        "from sklearn.feature_selection import chi2\n",
        "from sklearn.model_selection import train_test_split\n",
        "from sklearn.linear_model import LogisticRegression\n",
        "from sklearn.tree import DecisionTreeClassifier\n",
        "from sklearn.ensemble import RandomForestClassifier\n",
        "from sklearn.naive_bayes import GaussianNB\n",
        "from sklearn.ensemble import AdaBoostClassifier\n",
        "from sklearn.ensemble import StackingClassifier\n",
        "from sklearn.ensemble import VotingClassifier\n",
        "from sklearn.cluster import KMeans\n",
        "from xgboost import XGBClassifier\n",
        "from sklearn.metrics import precision_recall_curve\n",
        "from sklearn.metrics import silhouette_score\n",
        "from imblearn.over_sampling import SMOTE\n",
        "from sklearn.metrics import accuracy_score, precision_score, recall_score, f1_score, roc_auc_score, roc_curve, auc"
      ]
    },
    {
      "cell_type": "code",
      "source": [],
      "metadata": {
        "id": "6BhckpFbeUle"
      },
      "execution_count": null,
      "outputs": []
    },
    {
      "cell_type": "markdown",
      "source": [
        "# Data Preprocessing"
      ],
      "metadata": {
        "id": "BUTtRWCGH5zA"
      }
    },
    {
      "cell_type": "code",
      "source": [
        "path = kagglehub.dataset_download(\"jpacse/datasets-for-churn-telecom\")\n",
        "print(\"Path to dataset files:\", path)"
      ],
      "metadata": {
        "colab": {
          "base_uri": "https://localhost:8080/"
        },
        "id": "GWk_W_-EQiTh",
        "outputId": "d22862fb-f71d-4f8b-bcc4-b1467d67309a"
      },
      "execution_count": null,
      "outputs": [
        {
          "output_type": "stream",
          "name": "stdout",
          "text": [
            "Path to dataset files: /kaggle/input/datasets-for-churn-telecom\n"
          ]
        }
      ]
    },
    {
      "cell_type": "code",
      "source": [
        "files = os.listdir(path)\n",
        "print(\"Files in the path: %s\" % files)"
      ],
      "metadata": {
        "colab": {
          "base_uri": "https://localhost:8080/"
        },
        "id": "zhWgMasaQ2i9",
        "outputId": "70045547-b005-4ef7-9a90-b73dae4f16f6"
      },
      "execution_count": null,
      "outputs": [
        {
          "output_type": "stream",
          "name": "stdout",
          "text": [
            "Files in the path: ['cell2celltrain.csv', 'cell2cellholdout.csv']\n"
          ]
        }
      ]
    },
    {
      "cell_type": "code",
      "source": [
        "path = os.path.join(path, files[0])\n",
        "cell2cell_data = pd.read_csv(path)\n",
        "cell2cell_df = pd.DataFrame(cell2cell_data)\n",
        "cell2cell_df"
      ],
      "metadata": {
        "colab": {
          "base_uri": "https://localhost:8080/",
          "height": 203
        },
        "id": "G5bQUAa4QqVu",
        "outputId": "1f3a33c5-0f04-48a1-ac8c-c7f46beaae60"
      },
      "execution_count": null,
      "outputs": [
        {
          "output_type": "error",
          "ename": "NameError",
          "evalue": "name 'os' is not defined",
          "traceback": [
            "\u001b[0;31m---------------------------------------------------------------------------\u001b[0m",
            "\u001b[0;31mNameError\u001b[0m                                 Traceback (most recent call last)",
            "\u001b[0;32m<ipython-input-2-b596f8c2dbdd>\u001b[0m in \u001b[0;36m<cell line: 0>\u001b[0;34m()\u001b[0m\n\u001b[0;32m----> 1\u001b[0;31m \u001b[0mpath\u001b[0m \u001b[0;34m=\u001b[0m \u001b[0mos\u001b[0m\u001b[0;34m.\u001b[0m\u001b[0mpath\u001b[0m\u001b[0;34m.\u001b[0m\u001b[0mjoin\u001b[0m\u001b[0;34m(\u001b[0m\u001b[0mpath\u001b[0m\u001b[0;34m,\u001b[0m \u001b[0mfiles\u001b[0m\u001b[0;34m[\u001b[0m\u001b[0;36m0\u001b[0m\u001b[0;34m]\u001b[0m\u001b[0;34m)\u001b[0m\u001b[0;34m\u001b[0m\u001b[0;34m\u001b[0m\u001b[0m\n\u001b[0m\u001b[1;32m      2\u001b[0m \u001b[0mcell2cell_data\u001b[0m \u001b[0;34m=\u001b[0m \u001b[0mpd\u001b[0m\u001b[0;34m.\u001b[0m\u001b[0mread_csv\u001b[0m\u001b[0;34m(\u001b[0m\u001b[0mpath\u001b[0m\u001b[0;34m)\u001b[0m\u001b[0;34m\u001b[0m\u001b[0;34m\u001b[0m\u001b[0m\n\u001b[1;32m      3\u001b[0m \u001b[0mcell2cell_df\u001b[0m \u001b[0;34m=\u001b[0m \u001b[0mpd\u001b[0m\u001b[0;34m.\u001b[0m\u001b[0mDataFrame\u001b[0m\u001b[0;34m(\u001b[0m\u001b[0mcell2cell_data\u001b[0m\u001b[0;34m)\u001b[0m\u001b[0;34m\u001b[0m\u001b[0;34m\u001b[0m\u001b[0m\n\u001b[1;32m      4\u001b[0m \u001b[0mcell2cell_df\u001b[0m\u001b[0;34m\u001b[0m\u001b[0;34m\u001b[0m\u001b[0m\n",
            "\u001b[0;31mNameError\u001b[0m: name 'os' is not defined"
          ]
        }
      ]
    },
    {
      "cell_type": "code",
      "source": [
        "cell2cell_df.isnull().sum()"
      ],
      "metadata": {
        "colab": {
          "base_uri": "https://localhost:8080/",
          "height": 1000
        },
        "id": "bfNUqOL0rnCx",
        "outputId": "da3dce3e-3b0b-4e0c-c214-fd21bbed491d"
      },
      "execution_count": null,
      "outputs": [
        {
          "output_type": "execute_result",
          "data": {
            "text/plain": [
              "CustomerID                     0\n",
              "Churn                          0\n",
              "MonthlyRevenue               156\n",
              "MonthlyMinutes               156\n",
              "TotalRecurringCharge         156\n",
              "DirectorAssistedCalls        156\n",
              "OverageMinutes               156\n",
              "RoamingCalls                 156\n",
              "PercChangeMinutes            367\n",
              "PercChangeRevenues           367\n",
              "DroppedCalls                   0\n",
              "BlockedCalls                   0\n",
              "UnansweredCalls                0\n",
              "CustomerCareCalls              0\n",
              "ThreewayCalls                  0\n",
              "ReceivedCalls                  0\n",
              "OutboundCalls                  0\n",
              "InboundCalls                   0\n",
              "PeakCallsInOut                 0\n",
              "OffPeakCallsInOut              0\n",
              "DroppedBlockedCalls            0\n",
              "CallForwardingCalls            0\n",
              "CallWaitingCalls               0\n",
              "MonthsInService                0\n",
              "UniqueSubs                     0\n",
              "ActiveSubs                     0\n",
              "ServiceArea                   24\n",
              "Handsets                       1\n",
              "HandsetModels                  1\n",
              "CurrentEquipmentDays           1\n",
              "AgeHH1                       909\n",
              "AgeHH2                       909\n",
              "ChildrenInHH                   0\n",
              "HandsetRefurbished             0\n",
              "HandsetWebCapable              0\n",
              "TruckOwner                     0\n",
              "RVOwner                        0\n",
              "Homeownership                  0\n",
              "BuysViaMailOrder               0\n",
              "RespondsToMailOffers           0\n",
              "OptOutMailings                 0\n",
              "NonUSTravel                    0\n",
              "OwnsComputer                   0\n",
              "HasCreditCard                  0\n",
              "RetentionCalls                 0\n",
              "RetentionOffersAccepted        0\n",
              "NewCellphoneUser               0\n",
              "NotNewCellphoneUser            0\n",
              "ReferralsMadeBySubscriber      0\n",
              "IncomeGroup                    0\n",
              "OwnsMotorcycle                 0\n",
              "AdjustmentsToCreditRating      0\n",
              "HandsetPrice                   0\n",
              "MadeCallToRetentionTeam        0\n",
              "CreditRating                   0\n",
              "PrizmCode                      0\n",
              "Occupation                     0\n",
              "MaritalStatus                  0\n",
              "dtype: int64"
            ],
            "text/html": [
              "<div>\n",
              "<style scoped>\n",
              "    .dataframe tbody tr th:only-of-type {\n",
              "        vertical-align: middle;\n",
              "    }\n",
              "\n",
              "    .dataframe tbody tr th {\n",
              "        vertical-align: top;\n",
              "    }\n",
              "\n",
              "    .dataframe thead th {\n",
              "        text-align: right;\n",
              "    }\n",
              "</style>\n",
              "<table border=\"1\" class=\"dataframe\">\n",
              "  <thead>\n",
              "    <tr style=\"text-align: right;\">\n",
              "      <th></th>\n",
              "      <th>0</th>\n",
              "    </tr>\n",
              "  </thead>\n",
              "  <tbody>\n",
              "    <tr>\n",
              "      <th>CustomerID</th>\n",
              "      <td>0</td>\n",
              "    </tr>\n",
              "    <tr>\n",
              "      <th>Churn</th>\n",
              "      <td>0</td>\n",
              "    </tr>\n",
              "    <tr>\n",
              "      <th>MonthlyRevenue</th>\n",
              "      <td>156</td>\n",
              "    </tr>\n",
              "    <tr>\n",
              "      <th>MonthlyMinutes</th>\n",
              "      <td>156</td>\n",
              "    </tr>\n",
              "    <tr>\n",
              "      <th>TotalRecurringCharge</th>\n",
              "      <td>156</td>\n",
              "    </tr>\n",
              "    <tr>\n",
              "      <th>DirectorAssistedCalls</th>\n",
              "      <td>156</td>\n",
              "    </tr>\n",
              "    <tr>\n",
              "      <th>OverageMinutes</th>\n",
              "      <td>156</td>\n",
              "    </tr>\n",
              "    <tr>\n",
              "      <th>RoamingCalls</th>\n",
              "      <td>156</td>\n",
              "    </tr>\n",
              "    <tr>\n",
              "      <th>PercChangeMinutes</th>\n",
              "      <td>367</td>\n",
              "    </tr>\n",
              "    <tr>\n",
              "      <th>PercChangeRevenues</th>\n",
              "      <td>367</td>\n",
              "    </tr>\n",
              "    <tr>\n",
              "      <th>DroppedCalls</th>\n",
              "      <td>0</td>\n",
              "    </tr>\n",
              "    <tr>\n",
              "      <th>BlockedCalls</th>\n",
              "      <td>0</td>\n",
              "    </tr>\n",
              "    <tr>\n",
              "      <th>UnansweredCalls</th>\n",
              "      <td>0</td>\n",
              "    </tr>\n",
              "    <tr>\n",
              "      <th>CustomerCareCalls</th>\n",
              "      <td>0</td>\n",
              "    </tr>\n",
              "    <tr>\n",
              "      <th>ThreewayCalls</th>\n",
              "      <td>0</td>\n",
              "    </tr>\n",
              "    <tr>\n",
              "      <th>ReceivedCalls</th>\n",
              "      <td>0</td>\n",
              "    </tr>\n",
              "    <tr>\n",
              "      <th>OutboundCalls</th>\n",
              "      <td>0</td>\n",
              "    </tr>\n",
              "    <tr>\n",
              "      <th>InboundCalls</th>\n",
              "      <td>0</td>\n",
              "    </tr>\n",
              "    <tr>\n",
              "      <th>PeakCallsInOut</th>\n",
              "      <td>0</td>\n",
              "    </tr>\n",
              "    <tr>\n",
              "      <th>OffPeakCallsInOut</th>\n",
              "      <td>0</td>\n",
              "    </tr>\n",
              "    <tr>\n",
              "      <th>DroppedBlockedCalls</th>\n",
              "      <td>0</td>\n",
              "    </tr>\n",
              "    <tr>\n",
              "      <th>CallForwardingCalls</th>\n",
              "      <td>0</td>\n",
              "    </tr>\n",
              "    <tr>\n",
              "      <th>CallWaitingCalls</th>\n",
              "      <td>0</td>\n",
              "    </tr>\n",
              "    <tr>\n",
              "      <th>MonthsInService</th>\n",
              "      <td>0</td>\n",
              "    </tr>\n",
              "    <tr>\n",
              "      <th>UniqueSubs</th>\n",
              "      <td>0</td>\n",
              "    </tr>\n",
              "    <tr>\n",
              "      <th>ActiveSubs</th>\n",
              "      <td>0</td>\n",
              "    </tr>\n",
              "    <tr>\n",
              "      <th>ServiceArea</th>\n",
              "      <td>24</td>\n",
              "    </tr>\n",
              "    <tr>\n",
              "      <th>Handsets</th>\n",
              "      <td>1</td>\n",
              "    </tr>\n",
              "    <tr>\n",
              "      <th>HandsetModels</th>\n",
              "      <td>1</td>\n",
              "    </tr>\n",
              "    <tr>\n",
              "      <th>CurrentEquipmentDays</th>\n",
              "      <td>1</td>\n",
              "    </tr>\n",
              "    <tr>\n",
              "      <th>AgeHH1</th>\n",
              "      <td>909</td>\n",
              "    </tr>\n",
              "    <tr>\n",
              "      <th>AgeHH2</th>\n",
              "      <td>909</td>\n",
              "    </tr>\n",
              "    <tr>\n",
              "      <th>ChildrenInHH</th>\n",
              "      <td>0</td>\n",
              "    </tr>\n",
              "    <tr>\n",
              "      <th>HandsetRefurbished</th>\n",
              "      <td>0</td>\n",
              "    </tr>\n",
              "    <tr>\n",
              "      <th>HandsetWebCapable</th>\n",
              "      <td>0</td>\n",
              "    </tr>\n",
              "    <tr>\n",
              "      <th>TruckOwner</th>\n",
              "      <td>0</td>\n",
              "    </tr>\n",
              "    <tr>\n",
              "      <th>RVOwner</th>\n",
              "      <td>0</td>\n",
              "    </tr>\n",
              "    <tr>\n",
              "      <th>Homeownership</th>\n",
              "      <td>0</td>\n",
              "    </tr>\n",
              "    <tr>\n",
              "      <th>BuysViaMailOrder</th>\n",
              "      <td>0</td>\n",
              "    </tr>\n",
              "    <tr>\n",
              "      <th>RespondsToMailOffers</th>\n",
              "      <td>0</td>\n",
              "    </tr>\n",
              "    <tr>\n",
              "      <th>OptOutMailings</th>\n",
              "      <td>0</td>\n",
              "    </tr>\n",
              "    <tr>\n",
              "      <th>NonUSTravel</th>\n",
              "      <td>0</td>\n",
              "    </tr>\n",
              "    <tr>\n",
              "      <th>OwnsComputer</th>\n",
              "      <td>0</td>\n",
              "    </tr>\n",
              "    <tr>\n",
              "      <th>HasCreditCard</th>\n",
              "      <td>0</td>\n",
              "    </tr>\n",
              "    <tr>\n",
              "      <th>RetentionCalls</th>\n",
              "      <td>0</td>\n",
              "    </tr>\n",
              "    <tr>\n",
              "      <th>RetentionOffersAccepted</th>\n",
              "      <td>0</td>\n",
              "    </tr>\n",
              "    <tr>\n",
              "      <th>NewCellphoneUser</th>\n",
              "      <td>0</td>\n",
              "    </tr>\n",
              "    <tr>\n",
              "      <th>NotNewCellphoneUser</th>\n",
              "      <td>0</td>\n",
              "    </tr>\n",
              "    <tr>\n",
              "      <th>ReferralsMadeBySubscriber</th>\n",
              "      <td>0</td>\n",
              "    </tr>\n",
              "    <tr>\n",
              "      <th>IncomeGroup</th>\n",
              "      <td>0</td>\n",
              "    </tr>\n",
              "    <tr>\n",
              "      <th>OwnsMotorcycle</th>\n",
              "      <td>0</td>\n",
              "    </tr>\n",
              "    <tr>\n",
              "      <th>AdjustmentsToCreditRating</th>\n",
              "      <td>0</td>\n",
              "    </tr>\n",
              "    <tr>\n",
              "      <th>HandsetPrice</th>\n",
              "      <td>0</td>\n",
              "    </tr>\n",
              "    <tr>\n",
              "      <th>MadeCallToRetentionTeam</th>\n",
              "      <td>0</td>\n",
              "    </tr>\n",
              "    <tr>\n",
              "      <th>CreditRating</th>\n",
              "      <td>0</td>\n",
              "    </tr>\n",
              "    <tr>\n",
              "      <th>PrizmCode</th>\n",
              "      <td>0</td>\n",
              "    </tr>\n",
              "    <tr>\n",
              "      <th>Occupation</th>\n",
              "      <td>0</td>\n",
              "    </tr>\n",
              "    <tr>\n",
              "      <th>MaritalStatus</th>\n",
              "      <td>0</td>\n",
              "    </tr>\n",
              "  </tbody>\n",
              "</table>\n",
              "</div><br><label><b>dtype:</b> int64</label>"
            ]
          },
          "metadata": {},
          "execution_count": 5
        }
      ]
    },
    {
      "cell_type": "code",
      "source": [
        "cell2cell_df.columns"
      ],
      "metadata": {
        "colab": {
          "base_uri": "https://localhost:8080/"
        },
        "id": "I-LR9pJSyR8v",
        "outputId": "96e78548-809e-48a3-fa7d-9116a863308d"
      },
      "execution_count": null,
      "outputs": [
        {
          "output_type": "execute_result",
          "data": {
            "text/plain": [
              "Index(['CustomerID', 'Churn', 'MonthlyRevenue', 'MonthlyMinutes',\n",
              "       'TotalRecurringCharge', 'DirectorAssistedCalls', 'OverageMinutes',\n",
              "       'RoamingCalls', 'PercChangeMinutes', 'PercChangeRevenues',\n",
              "       'DroppedCalls', 'BlockedCalls', 'UnansweredCalls', 'CustomerCareCalls',\n",
              "       'ThreewayCalls', 'ReceivedCalls', 'OutboundCalls', 'InboundCalls',\n",
              "       'PeakCallsInOut', 'OffPeakCallsInOut', 'DroppedBlockedCalls',\n",
              "       'CallForwardingCalls', 'CallWaitingCalls', 'MonthsInService',\n",
              "       'UniqueSubs', 'ActiveSubs', 'ServiceArea', 'Handsets', 'HandsetModels',\n",
              "       'CurrentEquipmentDays', 'AgeHH1', 'AgeHH2', 'ChildrenInHH',\n",
              "       'HandsetRefurbished', 'HandsetWebCapable', 'TruckOwner', 'RVOwner',\n",
              "       'Homeownership', 'BuysViaMailOrder', 'RespondsToMailOffers',\n",
              "       'OptOutMailings', 'NonUSTravel', 'OwnsComputer', 'HasCreditCard',\n",
              "       'RetentionCalls', 'RetentionOffersAccepted', 'NewCellphoneUser',\n",
              "       'NotNewCellphoneUser', 'ReferralsMadeBySubscriber', 'IncomeGroup',\n",
              "       'OwnsMotorcycle', 'AdjustmentsToCreditRating', 'HandsetPrice',\n",
              "       'MadeCallToRetentionTeam', 'CreditRating', 'PrizmCode', 'Occupation',\n",
              "       'MaritalStatus'],\n",
              "      dtype='object')"
            ]
          },
          "metadata": {},
          "execution_count": 6
        }
      ]
    },
    {
      "cell_type": "code",
      "source": [
        "numerical_features = cell2cell_df.select_dtypes(include=['int64', 'float64']).columns.tolist()\n",
        "categorical_features = cell2cell_df.select_dtypes(include=['object']).columns.tolist()\n",
        "\n",
        "print(\"Numerical Features:\", numerical_features)\n",
        "print(\"Categorical Features:\", categorical_features)\n"
      ],
      "metadata": {
        "colab": {
          "base_uri": "https://localhost:8080/",
          "height": 222
        },
        "id": "eE9PAY69ur5C",
        "outputId": "e6ee06da-5d73-4ad2-fc01-3842d49c4f04"
      },
      "execution_count": null,
      "outputs": [
        {
          "output_type": "error",
          "ename": "NameError",
          "evalue": "name 'cell2cell_df' is not defined",
          "traceback": [
            "\u001b[0;31m---------------------------------------------------------------------------\u001b[0m",
            "\u001b[0;31mNameError\u001b[0m                                 Traceback (most recent call last)",
            "\u001b[0;32m<ipython-input-1-5b090198cdc4>\u001b[0m in \u001b[0;36m<cell line: 0>\u001b[0;34m()\u001b[0m\n\u001b[0;32m----> 1\u001b[0;31m \u001b[0mnumerical_features\u001b[0m \u001b[0;34m=\u001b[0m \u001b[0mcell2cell_df\u001b[0m\u001b[0;34m.\u001b[0m\u001b[0mselect_dtypes\u001b[0m\u001b[0;34m(\u001b[0m\u001b[0minclude\u001b[0m\u001b[0;34m=\u001b[0m\u001b[0;34m[\u001b[0m\u001b[0;34m'int64'\u001b[0m\u001b[0;34m,\u001b[0m \u001b[0;34m'float64'\u001b[0m\u001b[0;34m]\u001b[0m\u001b[0;34m)\u001b[0m\u001b[0;34m.\u001b[0m\u001b[0mcolumns\u001b[0m\u001b[0;34m.\u001b[0m\u001b[0mtolist\u001b[0m\u001b[0;34m(\u001b[0m\u001b[0;34m)\u001b[0m\u001b[0;34m\u001b[0m\u001b[0;34m\u001b[0m\u001b[0m\n\u001b[0m\u001b[1;32m      2\u001b[0m \u001b[0mcategorical_features\u001b[0m \u001b[0;34m=\u001b[0m \u001b[0mcell2cell_df\u001b[0m\u001b[0;34m.\u001b[0m\u001b[0mselect_dtypes\u001b[0m\u001b[0;34m(\u001b[0m\u001b[0minclude\u001b[0m\u001b[0;34m=\u001b[0m\u001b[0;34m[\u001b[0m\u001b[0;34m'object'\u001b[0m\u001b[0;34m]\u001b[0m\u001b[0;34m)\u001b[0m\u001b[0;34m.\u001b[0m\u001b[0mcolumns\u001b[0m\u001b[0;34m.\u001b[0m\u001b[0mtolist\u001b[0m\u001b[0;34m(\u001b[0m\u001b[0;34m)\u001b[0m\u001b[0;34m\u001b[0m\u001b[0;34m\u001b[0m\u001b[0m\n\u001b[1;32m      3\u001b[0m \u001b[0;34m\u001b[0m\u001b[0m\n\u001b[1;32m      4\u001b[0m \u001b[0mprint\u001b[0m\u001b[0;34m(\u001b[0m\u001b[0;34m\"Numerical Features:\"\u001b[0m\u001b[0;34m,\u001b[0m \u001b[0mnumerical_features\u001b[0m\u001b[0;34m)\u001b[0m\u001b[0;34m\u001b[0m\u001b[0;34m\u001b[0m\u001b[0m\n\u001b[1;32m      5\u001b[0m \u001b[0mprint\u001b[0m\u001b[0;34m(\u001b[0m\u001b[0;34m\"Categorical Features:\"\u001b[0m\u001b[0;34m,\u001b[0m \u001b[0mcategorical_features\u001b[0m\u001b[0;34m)\u001b[0m\u001b[0;34m\u001b[0m\u001b[0;34m\u001b[0m\u001b[0m\n",
            "\u001b[0;31mNameError\u001b[0m: name 'cell2cell_df' is not defined"
          ]
        }
      ]
    },
    {
      "cell_type": "code",
      "source": [
        "# Step 1: Handle Missing Values\n",
        "\n",
        "num_imputer = SimpleImputer(strategy=\"median\")\n",
        "cell2cell_df[numerical_features] = num_imputer.fit_transform(cell2cell_df[numerical_features])\n",
        "\n",
        "cat_imputer = SimpleImputer(strategy=\"most_frequent\")\n",
        "cell2cell_df[categorical_features] = cat_imputer.fit_transform(cell2cell_df[categorical_features])"
      ],
      "metadata": {
        "id": "0rDvIlKRxV3x"
      },
      "execution_count": null,
      "outputs": []
    },
    {
      "cell_type": "code",
      "source": [
        "# Step 2: Encode Categorical Features\n",
        "\n",
        "label_encoders = {}\n",
        "for col in categorical_features:\n",
        "  le = LabelEncoder()\n",
        "  cell2cell_df[col] = le.fit_transform(cell2cell_df[col])\n",
        "  label_encoders[col] = le"
      ],
      "metadata": {
        "id": "KXo5ngUYxzKB"
      },
      "execution_count": null,
      "outputs": []
    },
    {
      "cell_type": "code",
      "source": [
        "# Step 3: Normalize numerical features for fair Chi-square test\n",
        "\n",
        "scaler = MinMaxScaler()\n",
        "cell2cell_df[numerical_features] = scaler.fit_transform(cell2cell_df[numerical_features])"
      ],
      "metadata": {
        "id": "GcxgVICsyEQ5"
      },
      "execution_count": null,
      "outputs": []
    },
    {
      "cell_type": "code",
      "source": [],
      "metadata": {
        "id": "FBGR3lcmlEVN"
      },
      "execution_count": null,
      "outputs": []
    },
    {
      "cell_type": "markdown",
      "source": [
        "# Chi-square scores computation"
      ],
      "metadata": {
        "id": "hKQmLDQyPk9c"
      }
    },
    {
      "cell_type": "code",
      "source": [
        "excluded_columns = [\"Churn\", \"CustomerID\", \"ServiceArea\"]\n",
        "X = cell2cell_df[numerical_features + categorical_features].drop(columns=excluded_columns, errors='ignore')\n",
        "y = cell2cell_df['Churn']\n",
        "chi2_scores, p_values = chi2(X, y)"
      ],
      "metadata": {
        "id": "H3Mrg1E-yibI"
      },
      "execution_count": null,
      "outputs": []
    },
    {
      "cell_type": "code",
      "source": [
        "chi2_results = pd.DataFrame({\"Feature\": X.columns, \"Chi-Square Score\": chi2_scores, \"p-value\": p_values})\n",
        "chi2_results = chi2_results.sort_values(by=\"Chi-Square Score\", ascending=False)\n",
        "top_features = chi2_results[\"Feature\"].head(20).tolist()\n",
        "chi2_results['Feature'].head(20)"
      ],
      "metadata": {
        "colab": {
          "base_uri": "https://localhost:8080/"
        },
        "id": "px0qJ8a-0v9P",
        "outputId": "f0dc3f97-0e83-4a6e-9fb7-484347a3523b"
      },
      "execution_count": null,
      "outputs": [
        {
          "output_type": "execute_result",
          "data": {
            "text/plain": [
              "50    MadeCallToRetentionTeam\n",
              "51               CreditRating\n",
              "49               HandsetPrice\n",
              "29             RetentionCalls\n",
              "26       CurrentEquipmentDays\n",
              "35         HandsetRefurbished\n",
              "30    RetentionOffersAccepted\n",
              "36          HandsetWebCapable\n",
              "41       RespondsToMailOffers\n",
              "40           BuysViaMailOrder\n",
              "1              MonthlyMinutes\n",
              "25              HandsetModels\n",
              "17          OffPeakCallsInOut\n",
              "27                     AgeHH1\n",
              "13              ReceivedCalls\n",
              "39              Homeownership\n",
              "24                   Handsets\n",
              "16             PeakCallsInOut\n",
              "2        TotalRecurringCharge\n",
              "28                     AgeHH2\n",
              "Name: Feature, dtype: object"
            ],
            "text/html": [
              "<div>\n",
              "<style scoped>\n",
              "    .dataframe tbody tr th:only-of-type {\n",
              "        vertical-align: middle;\n",
              "    }\n",
              "\n",
              "    .dataframe tbody tr th {\n",
              "        vertical-align: top;\n",
              "    }\n",
              "\n",
              "    .dataframe thead th {\n",
              "        text-align: right;\n",
              "    }\n",
              "</style>\n",
              "<table border=\"1\" class=\"dataframe\">\n",
              "  <thead>\n",
              "    <tr style=\"text-align: right;\">\n",
              "      <th></th>\n",
              "      <th>Feature</th>\n",
              "    </tr>\n",
              "  </thead>\n",
              "  <tbody>\n",
              "    <tr>\n",
              "      <th>50</th>\n",
              "      <td>MadeCallToRetentionTeam</td>\n",
              "    </tr>\n",
              "    <tr>\n",
              "      <th>51</th>\n",
              "      <td>CreditRating</td>\n",
              "    </tr>\n",
              "    <tr>\n",
              "      <th>49</th>\n",
              "      <td>HandsetPrice</td>\n",
              "    </tr>\n",
              "    <tr>\n",
              "      <th>29</th>\n",
              "      <td>RetentionCalls</td>\n",
              "    </tr>\n",
              "    <tr>\n",
              "      <th>26</th>\n",
              "      <td>CurrentEquipmentDays</td>\n",
              "    </tr>\n",
              "    <tr>\n",
              "      <th>35</th>\n",
              "      <td>HandsetRefurbished</td>\n",
              "    </tr>\n",
              "    <tr>\n",
              "      <th>30</th>\n",
              "      <td>RetentionOffersAccepted</td>\n",
              "    </tr>\n",
              "    <tr>\n",
              "      <th>36</th>\n",
              "      <td>HandsetWebCapable</td>\n",
              "    </tr>\n",
              "    <tr>\n",
              "      <th>41</th>\n",
              "      <td>RespondsToMailOffers</td>\n",
              "    </tr>\n",
              "    <tr>\n",
              "      <th>40</th>\n",
              "      <td>BuysViaMailOrder</td>\n",
              "    </tr>\n",
              "    <tr>\n",
              "      <th>1</th>\n",
              "      <td>MonthlyMinutes</td>\n",
              "    </tr>\n",
              "    <tr>\n",
              "      <th>25</th>\n",
              "      <td>HandsetModels</td>\n",
              "    </tr>\n",
              "    <tr>\n",
              "      <th>17</th>\n",
              "      <td>OffPeakCallsInOut</td>\n",
              "    </tr>\n",
              "    <tr>\n",
              "      <th>27</th>\n",
              "      <td>AgeHH1</td>\n",
              "    </tr>\n",
              "    <tr>\n",
              "      <th>13</th>\n",
              "      <td>ReceivedCalls</td>\n",
              "    </tr>\n",
              "    <tr>\n",
              "      <th>39</th>\n",
              "      <td>Homeownership</td>\n",
              "    </tr>\n",
              "    <tr>\n",
              "      <th>24</th>\n",
              "      <td>Handsets</td>\n",
              "    </tr>\n",
              "    <tr>\n",
              "      <th>16</th>\n",
              "      <td>PeakCallsInOut</td>\n",
              "    </tr>\n",
              "    <tr>\n",
              "      <th>2</th>\n",
              "      <td>TotalRecurringCharge</td>\n",
              "    </tr>\n",
              "    <tr>\n",
              "      <th>28</th>\n",
              "      <td>AgeHH2</td>\n",
              "    </tr>\n",
              "  </tbody>\n",
              "</table>\n",
              "</div><br><label><b>dtype:</b> object</label>"
            ]
          },
          "metadata": {},
          "execution_count": 12
        }
      ]
    },
    {
      "cell_type": "code",
      "source": [
        "def print_metrics(model_name, accuracy, precision, recall, f1, auc):\n",
        "    print(f\"\\n=== {model_name} Metrics ===\")\n",
        "    print(f\"Accuracy: {accuracy:.2f}%\")\n",
        "    print(f\"Precision: {precision:.2f}%\")\n",
        "    print(f\"Recall: {recall:.2f}%\")\n",
        "    print(f\"F1-Score: {f1:.2f}%\")\n",
        "    print(f\"AUC: {auc:.2f}%\")"
      ],
      "metadata": {
        "id": "0EIPUX24Kslx"
      },
      "execution_count": null,
      "outputs": []
    },
    {
      "cell_type": "code",
      "source": [],
      "metadata": {
        "id": "Br03XYeAlIKF"
      },
      "execution_count": null,
      "outputs": []
    },
    {
      "cell_type": "markdown",
      "source": [
        "# Without Smote"
      ],
      "metadata": {
        "id": "DFT9t7MPqBlw"
      }
    },
    {
      "cell_type": "code",
      "source": [
        "X = cell2cell_df[top_features]\n",
        "y = cell2cell_df['Churn']\n",
        "X_train, X_test, y_train, y_test = train_test_split(X, y, test_size=0.2, random_state=42)\n",
        "\n",
        "scaler = StandardScaler()\n",
        "X_train_scaled = scaler.fit_transform(X_train)\n",
        "X_test_scaled = scaler.transform(X_test)"
      ],
      "metadata": {
        "id": "XnOzNb-W0dU3"
      },
      "execution_count": null,
      "outputs": []
    },
    {
      "cell_type": "markdown",
      "source": [
        "**Logistic Regression**"
      ],
      "metadata": {
        "id": "XqWERBzkH0di"
      }
    },
    {
      "cell_type": "code",
      "source": [
        "# Define and fit the model\n",
        "lr_model = LogisticRegression(\n",
        "    penalty='l2',\n",
        "    C=0.1,\n",
        "    class_weight='balanced',\n",
        "    solver='liblinear'\n",
        ")\n",
        "lr_model.fit(X_train_scaled, y_train)\n",
        "\n",
        "# Get predicted probabilities\n",
        "y_prob_lr = lr_model.predict_proba(X_test_scaled)[:, 1]\n",
        "\n",
        "# Threshold tuning using F1-score\n",
        "prec, rec, thresholds = precision_recall_curve(y_test, y_prob_lr)\n",
        "f1_scores = 2 * prec * rec / (prec + rec)\n",
        "best_threshold = thresholds[np.argmax(f1_scores)]\n",
        "\n",
        "# Predict using best threshold\n",
        "y_pred_tuned = (y_prob_lr > best_threshold).astype(int)\n",
        "\n",
        "# Evaluate using tuned predictions\n",
        "accuracy = accuracy_score(y_test, y_pred_tuned) * 100\n",
        "precision = precision_score(y_test, y_pred_tuned) * 100\n",
        "recall = recall_score(y_test, y_pred_tuned) * 100\n",
        "f1 = f1_score(y_test, y_pred_tuned) * 100\n",
        "auc_lr = roc_auc_score(y_test, y_prob_lr) * 100\n",
        "\n",
        "# Display results\n",
        "print_metrics(\"Logistic Regression\", accuracy, precision, recall, f1, auc_lr)\n"
      ],
      "metadata": {
        "colab": {
          "base_uri": "https://localhost:8080/"
        },
        "id": "fhV3ZsT3I6--",
        "outputId": "25a0ae07-7303-496b-cfc3-df593af849f1"
      },
      "execution_count": null,
      "outputs": [
        {
          "output_type": "stream",
          "name": "stdout",
          "text": [
            "\n",
            "=== Logistic Regression Metrics ===\n",
            "Accuracy: 50.72%\n",
            "Precision: 32.97%\n",
            "Recall: 70.99%\n",
            "F1-Score: 45.02%\n",
            "AUC: 59.28%\n"
          ]
        }
      ]
    },
    {
      "cell_type": "markdown",
      "source": [
        "**Decision Tree**"
      ],
      "metadata": {
        "id": "axurtWN5g9mv"
      }
    },
    {
      "cell_type": "code",
      "source": [
        "dt_model = DecisionTreeClassifier(\n",
        "    criterion='entropy',\n",
        "    min_samples_split=50,\n",
        "    max_depth=10,\n",
        "    class_weight='balanced',\n",
        "    random_state=42\n",
        ")\n",
        "dt_model.fit(X_train_scaled, y_train)\n",
        "\n",
        "y_pred = dt_model.predict(X_test_scaled)\n",
        "y_prob_dt = dt_model.predict_proba(X_test_scaled)[:, 1]\n",
        "\n",
        "prec, rec, thresholds = precision_recall_curve(y_test, y_prob_dt)\n",
        "f1_scores = 2 * prec * rec / (prec + rec + 1e-6)\n",
        "best_threshold = thresholds[np.argmax(f1_scores)]\n",
        "\n",
        "y_pred_tuned = (y_prob_dt > best_threshold).astype(int)\n",
        "\n",
        "accuracy = accuracy_score(y_test, y_pred_tuned) * 100\n",
        "precision = precision_score(y_test, y_pred_tuned) * 100\n",
        "recall = recall_score(y_test, y_pred_tuned) * 100\n",
        "f1 = f1_score(y_test, y_pred_tuned) * 100\n",
        "auc_dt = roc_auc_score(y_test, y_prob_dt) * 100\n",
        "\n",
        "print_metrics(\"Decision Tree (Threshold Tuned)\", accuracy, precision, recall, f1, auc_dt)\n"
      ],
      "metadata": {
        "colab": {
          "base_uri": "https://localhost:8080/"
        },
        "id": "wXtLCPqYi8Zg",
        "outputId": "bf51e10d-eab8-49b2-90c3-72792bb52f22"
      },
      "execution_count": null,
      "outputs": [
        {
          "output_type": "stream",
          "name": "stdout",
          "text": [
            "\n",
            "=== Decision Tree (Threshold Tuned) Metrics ===\n",
            "Accuracy: 49.36%\n",
            "Precision: 33.29%\n",
            "Recall: 77.84%\n",
            "F1-Score: 46.64%\n",
            "AUC: 62.19%\n"
          ]
        }
      ]
    },
    {
      "cell_type": "markdown",
      "source": [
        "**Random Forest**"
      ],
      "metadata": {
        "id": "jP9u3irqlU0d"
      }
    },
    {
      "cell_type": "code",
      "source": [
        "rf_model = RandomForestClassifier(\n",
        "    n_estimators=300,\n",
        "    max_depth=10,\n",
        "    min_samples_split=10,\n",
        "    min_samples_leaf=4,\n",
        "    class_weight='balanced',\n",
        "    random_state=42\n",
        ")\n",
        "rf_model.fit(X_train_scaled, y_train)\n",
        "\n",
        "y_pred = rf_model.predict(X_test_scaled)\n",
        "y_prob_rf = rf_model.predict_proba(X_test_scaled)[:, 1]\n",
        "y_pred_adjusted = np.where(y_prob_rf > 0.4, 1, 0)\n",
        "\n",
        "accuracy = accuracy_score(y_test, y_pred) * 100\n",
        "precision = precision_score(y_test, y_pred_adjusted) * 100\n",
        "recall = recall_score(y_test, y_pred_adjusted) * 100\n",
        "f1 = f1_score(y_test, y_pred_adjusted) * 100\n",
        "auc_rf = roc_auc_score(y_test, y_prob_rf) * 100\n",
        "\n",
        "print_metrics(\"Random Forest\", accuracy, precision, recall, f1, auc_rf)"
      ],
      "metadata": {
        "colab": {
          "base_uri": "https://localhost:8080/"
        },
        "id": "cgGyfilWoXcp",
        "outputId": "f3d63e68-81f5-4c59-ad37-27921550c009"
      },
      "execution_count": null,
      "outputs": [
        {
          "output_type": "stream",
          "name": "stdout",
          "text": [
            "\n",
            "=== Random Forest Metrics ===\n",
            "Accuracy: 58.55%\n",
            "Precision: 33.12%\n",
            "Recall: 85.29%\n",
            "F1-Score: 47.72%\n",
            "AUC: 64.18%\n"
          ]
        }
      ]
    },
    {
      "cell_type": "markdown",
      "source": [
        "**Naive Bayes**"
      ],
      "metadata": {
        "id": "S5aRqpAtp7oF"
      }
    },
    {
      "cell_type": "code",
      "source": [
        "nb_model = GaussianNB()\n",
        "nb_model.fit(X_train_scaled, y_train)\n",
        "\n",
        "y_pred = nb_model.predict(X_test_scaled)\n",
        "y_prob_nb = nb_model.predict_proba(X_test_scaled)[:, 1]\n",
        "y_pred_adjusted = np.where(y_prob_nb > 0.6, 1, 0)\n",
        "\n",
        "accuracy = accuracy_score(y_test, y_pred) * 100\n",
        "precision_adj = precision_score(y_test, y_pred_adjusted) * 100\n",
        "recall_adj = recall_score(y_test, y_pred_adjusted) * 100\n",
        "f1_adj = f1_score(y_test, y_pred_adjusted) * 100\n",
        "auc_nb = roc_auc_score(y_test, y_prob_nb) * 100\n",
        "\n",
        "print_metrics(\"Naive Bayes\", accuracy, precision, recall, f1, auc_nb)"
      ],
      "metadata": {
        "colab": {
          "base_uri": "https://localhost:8080/"
        },
        "id": "-14S5ELwrNYO",
        "outputId": "e7b9e4a8-94e7-4470-dbf7-a6a8a711eba8"
      },
      "execution_count": null,
      "outputs": [
        {
          "output_type": "stream",
          "name": "stdout",
          "text": [
            "\n",
            "=== Naive Bayes Metrics ===\n",
            "Accuracy: 68.81%\n",
            "Precision: 33.12%\n",
            "Recall: 85.29%\n",
            "F1-Score: 47.72%\n",
            "AUC: 56.96%\n"
          ]
        }
      ]
    },
    {
      "cell_type": "markdown",
      "source": [
        "**Adaboost**"
      ],
      "metadata": {
        "id": "KTsP2qHtvjm4"
      }
    },
    {
      "cell_type": "code",
      "source": [
        "from sklearn.ensemble import AdaBoostClassifier\n",
        "from sklearn.tree import DecisionTreeClassifier\n",
        "from sklearn.metrics import accuracy_score, precision_score, recall_score, f1_score, roc_auc_score, precision_recall_curve\n",
        "import numpy as np\n",
        "\n",
        "# Base learner with more depth (can capture more patterns)\n",
        "base_estimator = DecisionTreeClassifier(max_depth=3, min_samples_split=10)\n",
        "\n",
        "# Modified AdaBoost model\n",
        "ada_model = AdaBoostClassifier(\n",
        "    estimator=base_estimator,\n",
        "    n_estimators=200,           # More estimators\n",
        "    learning_rate=0.5,          # Slightly reduced to prevent overfitting\n",
        "    random_state=42\n",
        ")\n",
        "ada_model.fit(X_train_scaled, y_train)\n",
        "\n",
        "# Get predicted probabilities\n",
        "y_prob_ada = ada_model.predict_proba(X_test_scaled)[:, 1]\n",
        "\n",
        "# Find optimal threshold for best F1-score\n",
        "prec, rec, thresholds = precision_recall_curve(y_test, y_prob_ada)\n",
        "f1_scores = 2 * prec * rec / (prec + rec + 1e-6)\n",
        "best_threshold = thresholds[np.argmax(f1_scores)]\n",
        "\n",
        "# Adjust predictions using optimal threshold\n",
        "y_pred_adjusted = (y_prob_ada > best_threshold).astype(int)\n",
        "\n",
        "# Evaluate\n",
        "accuracy = accuracy_score(y_test, (y_prob_ada > 0.5).astype(int)) * 100  # standard accuracy at 0.5 threshold\n",
        "precision = precision_score(y_test, y_pred_adjusted) * 100\n",
        "recall = recall_score(y_test, y_pred_adjusted) * 100\n",
        "f1 = f1_score(y_test, y_pred_adjusted) * 100\n",
        "auc_ada = roc_auc_score(y_test, y_prob_ada) * 100\n",
        "\n",
        "print_metrics(\"AdaBoost (Tuned)\", accuracy, precision, recall, f1, auc_ada)\n"
      ],
      "metadata": {
        "colab": {
          "base_uri": "https://localhost:8080/"
        },
        "id": "TvZkr6Klw-mL",
        "outputId": "b4a2f930-8b0d-4dfb-c6a2-2ee66c22e783"
      },
      "execution_count": null,
      "outputs": [
        {
          "output_type": "stream",
          "name": "stdout",
          "text": [
            "\n",
            "=== AdaBoost (Tuned) Metrics ===\n",
            "Accuracy: 72.01%\n",
            "Precision: 33.24%\n",
            "Recall: 83.01%\n",
            "F1-Score: 47.47%\n",
            "AUC: 64.08%\n"
          ]
        }
      ]
    },
    {
      "cell_type": "markdown",
      "source": [
        "**XGBoost**"
      ],
      "metadata": {
        "id": "XV9yT2bnwX-7"
      }
    },
    {
      "cell_type": "code",
      "source": [
        "xgb_model = XGBClassifier(\n",
        "    n_estimators=200,\n",
        "    learning_rate=0.05,\n",
        "    max_depth=4,\n",
        "    subsample=0.8,\n",
        "    colsample_bytree=0.8,\n",
        "    scale_pos_weight=3,  # Approx. ratio of negative to positive examples\n",
        "    random_state=42,\n",
        "    use_label_encoder=False,\n",
        "    eval_metric=\"logloss\"\n",
        ")\n",
        "\n",
        "xgb_model.fit(X_train_scaled, y_train)\n",
        "\n",
        "y_prob_xgb = xgb_model.predict_proba(X_test_scaled)[:, 1]\n",
        "\n",
        "# Get optimal threshold for best F1-score\n",
        "prec, rec, thresholds = precision_recall_curve(y_test, y_prob_xgb)\n",
        "with np.errstate(divide='ignore', invalid='ignore'):\n",
        "    f1_scores = 2 * prec * rec / (prec + rec)\n",
        "    f1_scores[np.isnan(f1_scores)] = 0\n",
        "best_thresh = thresholds[np.argmax(f1_scores)]\n",
        "\n",
        "# Get predicted probabilities\n",
        "y_prob_xgb = xgb_model.predict_proba(X_test_scaled)[:, 1]\n",
        "\n",
        "# Manual threshold (try 0.3 or 0.35 to improve recall)\n",
        "threshold = 0.35\n",
        "y_pred_xgb = (y_prob_xgb > threshold).astype(int)\n",
        "\n",
        "# Evaluation metrics\n",
        "accuracy = accuracy_score(y_test, y_pred_xgb) * 100\n",
        "precision = precision_score(y_test, y_pred_xgb, zero_division=0) * 100\n",
        "recall = recall_score(y_test, y_pred_xgb) * 100\n",
        "f1 = f1_score(y_test, y_pred_xgb) * 100\n",
        "auc_xgb = roc_auc_score(y_test, y_prob_xgb) * 100\n",
        "\n",
        "print_metrics(\"XGBoost (Tuned Threshold)\", accuracy, precision, recall, f1, auc_xgb)\n"
      ],
      "metadata": {
        "colab": {
          "base_uri": "https://localhost:8080/"
        },
        "id": "C4t-8z4myhxC",
        "outputId": "9415e77d-318e-426e-c8ec-f322daef46f2"
      },
      "execution_count": null,
      "outputs": [
        {
          "output_type": "stream",
          "name": "stderr",
          "text": [
            "/usr/local/lib/python3.11/dist-packages/xgboost/core.py:158: UserWarning: [06:40:09] WARNING: /workspace/src/learner.cc:740: \n",
            "Parameters: { \"use_label_encoder\" } are not used.\n",
            "\n",
            "  warnings.warn(smsg, UserWarning)\n"
          ]
        },
        {
          "output_type": "stream",
          "name": "stdout",
          "text": [
            "\n",
            "=== XGBoost (Tuned Threshold) Metrics ===\n",
            "Accuracy: 35.81%\n",
            "Precision: 30.20%\n",
            "Recall: 95.93%\n",
            "F1-Score: 45.93%\n",
            "AUC: 64.77%\n"
          ]
        }
      ]
    },
    {
      "cell_type": "markdown",
      "source": [
        "**Stacking ensemble**"
      ],
      "metadata": {
        "id": "iGc_mW2wiVyc"
      }
    },
    {
      "cell_type": "code",
      "source": [
        "# Base learners\n",
        "estimators = [\n",
        "    ('lr', LogisticRegression(C=0.01, penalty='l2', solver='liblinear', class_weight='balanced', random_state=42)),\n",
        "    ('rf', RandomForestClassifier(n_estimators=300, max_depth=10, min_samples_split=10, min_samples_leaf=4, class_weight='balanced', random_state=42)),\n",
        "    ('nb', GaussianNB()),\n",
        "    ('ada', AdaBoostClassifier(estimator=DecisionTreeClassifier(max_depth=1), n_estimators=100, learning_rate=0.5, random_state=42)),\n",
        "    ('xgb', XGBClassifier(n_estimators=200, learning_rate=0.05, max_depth=4, subsample=0.8, colsample_bytree=0.8, random_state=42, eval_metric=\"logloss\"))\n",
        "]\n",
        "\n",
        "# Meta-learner\n",
        "final_estimator = LogisticRegression(class_weight='balanced', solver='liblinear', random_state=42)\n",
        "\n",
        "# Stacking Classifier\n",
        "stacking_model = StackingClassifier(\n",
        "    estimators=estimators,\n",
        "    final_estimator=final_estimator,\n",
        "    passthrough=True,\n",
        "    cv=5,\n",
        "    n_jobs=-1\n",
        ")\n",
        "\n",
        "# Fit the model\n",
        "stacking_model.fit(X_train_scaled, y_train)\n",
        "\n",
        "# Predict probabilities and adjust threshold\n",
        "y_prob_stack = stacking_model.predict_proba(X_test_scaled)[:, 1]\n",
        "y_pred_stack = np.where(y_prob_stack > 0.4, 1, 0)\n",
        "\n",
        "# Metrics\n",
        "accuracy = accuracy_score(y_test, y_pred_stack) * 100\n",
        "precision = precision_score(y_test, y_pred_stack) * 100\n",
        "recall = recall_score(y_test, y_pred_stack) * 100\n",
        "f1 = f1_score(y_test, y_pred_stack) * 100\n",
        "auc = roc_auc_score(y_test, y_prob_stack) * 100\n",
        "\n",
        "print_metrics(\"Stacking Ensemble\", accuracy, precision, recall, f1, auc)\n"
      ],
      "metadata": {
        "colab": {
          "base_uri": "https://localhost:8080/"
        },
        "id": "0nGKByHraHbb",
        "outputId": "9e748647-785e-478a-970d-b82504d455ab"
      },
      "execution_count": null,
      "outputs": [
        {
          "output_type": "stream",
          "name": "stdout",
          "text": [
            "\n",
            "=== Stacking Ensemble Metrics ===\n",
            "Accuracy: 47.54%\n",
            "Precision: 33.27%\n",
            "Recall: 84.08%\n",
            "F1-Score: 47.67%\n",
            "AUC: 64.72%\n"
          ]
        }
      ]
    },
    {
      "cell_type": "markdown",
      "source": [
        "**ROC Curves**"
      ],
      "metadata": {
        "id": "afuApvgr18-Q"
      }
    },
    {
      "cell_type": "code",
      "source": [
        "from sklearn.metrics import auc  # Re-import in case it was overwritten\n",
        "\n",
        "models = {\n",
        "    \"Logistic Regression\": y_prob_lr,\n",
        "    \"Decision Tree\": y_prob_dt,\n",
        "    \"Random Forest\": y_prob_rf,\n",
        "    \"Naïve Bayes\": y_prob_nb,\n",
        "    \"AdaBoost\": y_prob_ada,\n",
        "    \"XGBoost\": y_prob_xgb,\n",
        "    \"Stacking ensemble\": y_prob_stack\n",
        "}\n",
        "\n",
        "plt.figure(figsize=(10, 6))\n",
        "\n",
        "for model_name, y_prob in models.items():\n",
        "    fpr, tpr, _ = roc_curve(y_test, y_prob)\n",
        "    roc_auc = auc(fpr, tpr)\n",
        "    plt.plot(fpr, tpr, label=f\"{model_name} (AUC = {roc_auc*100:.2f})\")\n",
        "\n",
        "plt.plot([0, 1], [0, 1], linestyle=\"--\", color=\"gray\", label=\"Random Guessing\")\n",
        "\n",
        "plt.xlabel(\"False Positive Rate (FPR)\")\n",
        "plt.ylabel(\"True Positive Rate (TPR)\")\n",
        "plt.title(\"ROC Curves for All Models\")\n",
        "plt.legend(loc=\"lower right\")\n",
        "plt.grid()\n",
        "plt.show()"
      ],
      "metadata": {
        "id": "2QvrVQBR2ALj",
        "colab": {
          "base_uri": "https://localhost:8080/",
          "height": 564
        },
        "outputId": "86eadfaa-85ec-4102-bd52-631b6c8b9982"
      },
      "execution_count": null,
      "outputs": [
        {
          "output_type": "display_data",
          "data": {
            "text/plain": [
              "<Figure size 1000x600 with 1 Axes>"
            ],
            "image/png": "[encoded data removed]"
          },
          "metadata": {}
        }
      ]
    },
    {
      "cell_type": "code",
      "source": [],
      "metadata": {
        "id": "urygoUyoa1jQ"
      },
      "execution_count": null,
      "outputs": []
    },
    {
      "cell_type": "markdown",
      "source": [
        "# With smote"
      ],
      "metadata": {
        "id": "wm74qjql6dcp"
      }
    },
    {
      "cell_type": "code",
      "source": [
        "print(\"Class distribution before SMOTE:\")\n",
        "print(y.value_counts())"
      ],
      "metadata": {
        "colab": {
          "base_uri": "https://localhost:8080/"
        },
        "id": "4P_LLRto6g-4",
        "outputId": "d2a1d3d2-b681-4665-c50f-a52ef74a3832"
      },
      "execution_count": null,
      "outputs": [
        {
          "output_type": "stream",
          "name": "stdout",
          "text": [
            "Class distribution before SMOTE:\n",
            "Churn\n",
            "0    36336\n",
            "1    14711\n",
            "Name: count, dtype: int64\n"
          ]
        }
      ]
    },
    {
      "cell_type": "code",
      "source": [
        "smote = SMOTE(random_state=42)\n",
        "X_smote, y_smote = smote.fit_resample(X, y)\n",
        "\n",
        "print(\"Class distribution after SMOTE:\")\n",
        "print(np.bincount(y_smote))"
      ],
      "metadata": {
        "colab": {
          "base_uri": "https://localhost:8080/"
        },
        "id": "5-BF9_v86szQ",
        "outputId": "e60d5c3c-58ba-4cad-a1bd-b17f5e25b164"
      },
      "execution_count": null,
      "outputs": [
        {
          "output_type": "stream",
          "name": "stdout",
          "text": [
            "Class distribution after SMOTE:\n",
            "[36336 36336]\n"
          ]
        }
      ]
    },
    {
      "cell_type": "code",
      "source": [
        "X_train_smote, X_test_smote, y_train_smote, y_test_smote = train_test_split(\n",
        "    X_smote, y_smote, test_size=0.2, random_state=42\n",
        ")"
      ],
      "metadata": {
        "id": "eq2GW9WC7-SX"
      },
      "execution_count": null,
      "outputs": []
    },
    {
      "cell_type": "code",
      "source": [
        "scaler = StandardScaler()\n",
        "X_train_smote_scaled = scaler.fit_transform(X_train_smote)\n",
        "X_test_smote_scaled = scaler.transform(X_test_smote)"
      ],
      "metadata": {
        "id": "XBidI1Rw9QZj"
      },
      "execution_count": null,
      "outputs": []
    },
    {
      "cell_type": "markdown",
      "source": [
        "**Linear Regression**"
      ],
      "metadata": {
        "id": "gXbgnaSO9LSB"
      }
    },
    {
      "cell_type": "code",
      "source": [
        "# Define and fit the model\n",
        "lr_model = LogisticRegression(\n",
        "    penalty='l2',\n",
        "    C=0.1,\n",
        "    class_weight='balanced',\n",
        "    solver='liblinear'\n",
        ")\n",
        "lr_model.fit(X_train_smote_scaled, y_train_smote)\n",
        "\n",
        "# Get predicted probabilities\n",
        "y_prob_lr = lr_model.predict_proba(X_test_smote_scaled)[:, 1]\n",
        "\n",
        "# Threshold tuning using F1-score\n",
        "prec, rec, thresholds = precision_recall_curve(y_test_smote, y_prob_lr)\n",
        "f1_scores = 2 * prec * rec / (prec + rec)\n",
        "best_threshold = thresholds[np.argmax(f1_scores)]\n",
        "\n",
        "# Predict using best threshold\n",
        "y_pred_tuned = (y_prob_lr > best_threshold).astype(int)\n",
        "\n",
        "# Evaluate using tuned predictions\n",
        "accuracy = accuracy_score(y_test_smote, y_pred_tuned) * 100\n",
        "precision = precision_score(y_test_smote, y_pred_tuned) * 100\n",
        "recall = recall_score(y_test_smote, y_pred_tuned) * 100\n",
        "f1 = f1_score(y_test_smote, y_pred_tuned) * 100\n",
        "auc_lr = roc_auc_score(y_test_smote, y_prob_lr) * 100\n",
        "\n",
        "# Display results\n",
        "print_metrics(\"Logistic Regression\", accuracy, precision, recall, f1, auc_lr)\n"
      ],
      "metadata": {
        "colab": {
          "base_uri": "https://localhost:8080/"
        },
        "outputId": "7e9d99d5-bfb4-4836-bdc0-6c02391e43eb",
        "id": "ViZXetQT9LSC"
      },
      "execution_count": null,
      "outputs": [
        {
          "output_type": "stream",
          "name": "stdout",
          "text": [
            "\n",
            "=== Logistic Regression Metrics ===\n",
            "Accuracy: 51.20%\n",
            "Precision: 50.79%\n",
            "Recall: 98.72%\n",
            "F1-Score: 67.08%\n",
            "AUC: 59.78%\n"
          ]
        }
      ]
    },
    {
      "cell_type": "markdown",
      "source": [
        "**Decision Tree**"
      ],
      "metadata": {
        "id": "FAOvuAsSC8iZ"
      }
    },
    {
      "cell_type": "code",
      "source": [
        "dt_model = DecisionTreeClassifier(\n",
        "    criterion='entropy',\n",
        "    min_samples_split=50,\n",
        "    max_depth=10,\n",
        "    class_weight='balanced',\n",
        "    random_state=42\n",
        ")\n",
        "dt_model.fit(X_train_smote_scaled, y_train_smote)\n",
        "\n",
        "y_pred = dt_model.predict(X_test_smote_scaled)\n",
        "y_prob_dt = dt_model.predict_proba(X_test_smote_scaled)[:, 1]\n",
        "\n",
        "prec, rec, thresholds = precision_recall_curve(y_test_smote, y_prob_dt)\n",
        "f1_scores = 2 * prec * rec / (prec + rec + 1e-6)\n",
        "best_threshold = thresholds[np.argmax(f1_scores)]\n",
        "\n",
        "y_pred_tuned = (y_prob_dt > best_threshold).astype(int)\n",
        "\n",
        "accuracy = accuracy_score(y_test_smote, y_pred_tuned) * 100\n",
        "precision = precision_score(y_test_smote, y_pred_tuned) * 100\n",
        "recall = recall_score(y_test_smote, y_pred_tuned) * 100\n",
        "f1 = f1_score(y_test_smote, y_pred_tuned) * 100\n",
        "auc_dt = roc_auc_score(y_test_smote, y_prob_dt) * 100\n",
        "\n",
        "print_metrics(\"Decision Tree (Threshold Tuned)\", accuracy, precision, recall, f1, auc_dt)\n"
      ],
      "metadata": {
        "colab": {
          "base_uri": "https://localhost:8080/"
        },
        "id": "GQNJBWK4Dx1T",
        "outputId": "f9957fc9-b787-4654-dd10-0a9dd69d2051"
      },
      "execution_count": null,
      "outputs": [
        {
          "output_type": "stream",
          "name": "stdout",
          "text": [
            "\n",
            "=== Decision Tree (Threshold Tuned) Metrics ===\n",
            "Accuracy: 63.84%\n",
            "Precision: 60.20%\n",
            "Recall: 83.21%\n",
            "F1-Score: 69.86%\n",
            "AUC: 74.49%\n"
          ]
        }
      ]
    },
    {
      "cell_type": "markdown",
      "source": [
        "**Random Forest**"
      ],
      "metadata": {
        "id": "t3EfEa4EFH0h"
      }
    },
    {
      "cell_type": "code",
      "source": [
        "rf_model = RandomForestClassifier(\n",
        "    n_estimators=300,\n",
        "    max_depth=10,\n",
        "    min_samples_split=10,\n",
        "    min_samples_leaf=4,\n",
        "    class_weight='balanced',\n",
        "    random_state=42\n",
        ")\n",
        "rf_model.fit(X_train_smote_scaled, y_train_smote)\n",
        "\n",
        "y_pred = rf_model.predict(X_test_smote)\n",
        "y_prob_rf = rf_model.predict_proba(X_test_smote_scaled)[:, 1]\n",
        "y_pred_adjusted = np.where(y_prob_rf > 0.4, 1, 0)\n",
        "\n",
        "accuracy = accuracy_score(y_test_smote, y_pred) * 100\n",
        "precision = precision_score(y_test_smote, y_pred_adjusted) * 100\n",
        "recall = recall_score(y_test_smote, y_pred_adjusted) * 100\n",
        "f1 = f1_score(y_test_smote, y_pred_adjusted) * 100\n",
        "auc_rf = roc_auc_score(y_test_smote, y_prob_rf) * 100\n",
        "\n",
        "print_metrics(\"Random Forest\", accuracy, precision, recall, f1, auc_rf)"
      ],
      "metadata": {
        "colab": {
          "base_uri": "https://localhost:8080/"
        },
        "id": "XKREepiEFKQ4",
        "outputId": "d88d15fa-83f2-4828-bb1a-515437b190c7"
      },
      "execution_count": null,
      "outputs": [
        {
          "output_type": "stream",
          "name": "stderr",
          "text": [
            "/usr/local/lib/python3.11/dist-packages/sklearn/utils/validation.py:2732: UserWarning: X has feature names, but RandomForestClassifier was fitted without feature names\n",
            "  warnings.warn(\n"
          ]
        },
        {
          "output_type": "stream",
          "name": "stdout",
          "text": [
            "\n",
            "=== Random Forest Metrics ===\n",
            "Accuracy: 50.35%\n",
            "Precision: 59.57%\n",
            "Recall: 88.14%\n",
            "F1-Score: 71.09%\n",
            "AUC: 75.88%\n"
          ]
        }
      ]
    },
    {
      "cell_type": "markdown",
      "source": [
        "**Naive Bayes**"
      ],
      "metadata": {
        "id": "1LwxDm4YF9Ww"
      }
    },
    {
      "cell_type": "code",
      "source": [
        "nb_model = GaussianNB()\n",
        "nb_model.fit(X_train_smote_scaled, y_train_smote)\n",
        "\n",
        "y_pred = nb_model.predict(X_test_smote_scaled)\n",
        "y_prob_nb = nb_model.predict_proba(X_test_smote_scaled)[:, 1]\n",
        "y_pred_adjusted = np.where(y_prob_nb > 0.6, 1, 0)\n",
        "\n",
        "accuracy = accuracy_score(y_test_smote, y_pred) * 100\n",
        "precision_adj = precision_score(y_test_smote, y_pred_adjusted) * 100\n",
        "recall_adj = recall_score(y_test_smote, y_pred_adjusted) * 100\n",
        "f1_adj = f1_score(y_test_smote, y_pred_adjusted) * 100\n",
        "auc_nb = roc_auc_score(y_test_smote, y_prob_nb) * 100\n",
        "\n",
        "print_metrics(\"Naive Bayes\", accuracy, precision, recall, f1, auc_nb)"
      ],
      "metadata": {
        "colab": {
          "base_uri": "https://localhost:8080/"
        },
        "id": "zurQXVdQF_ZI",
        "outputId": "11054c34-3de3-486c-d201-42b41e0792f0"
      },
      "execution_count": null,
      "outputs": [
        {
          "output_type": "stream",
          "name": "stdout",
          "text": [
            "\n",
            "=== Naive Bayes Metrics ===\n",
            "Accuracy: 56.46%\n",
            "Precision: 59.57%\n",
            "Recall: 88.14%\n",
            "F1-Score: 71.09%\n",
            "AUC: 58.47%\n"
          ]
        }
      ]
    },
    {
      "cell_type": "markdown",
      "source": [
        "**Adaboost**"
      ],
      "metadata": {
        "id": "_reJUr-FHDyd"
      }
    },
    {
      "cell_type": "code",
      "source": [
        "ada_model = AdaBoostClassifier(\n",
        "    estimator=DecisionTreeClassifier(max_depth=1),\n",
        "    n_estimators=50,\n",
        "    learning_rate=1.0,\n",
        "    random_state=42\n",
        ")\n",
        "ada_model.fit(X_train_smote_scaled, y_train_smote)\n",
        "\n",
        "y_pred = ada_model.predict(X_test_smote_scaled)\n",
        "y_prob_ada = ada_model.predict_proba(X_test_smote_scaled)[:, 1]\n",
        "\n",
        "accuracy = accuracy_score(y_test_smote, y_pred) * 100\n",
        "precision = precision_score(y_test_smote, y_pred) * 100\n",
        "recall = recall_score(y_test_smote, y_pred) * 100\n",
        "f1 = f1_score(y_test_smote, y_pred) * 100\n",
        "auc_ada = roc_auc_score(y_test_smote, y_prob_ada) * 100\n",
        "\n",
        "print_metrics(\"Adaboost\", accuracy, precision, recall, f1, auc_ada)"
      ],
      "metadata": {
        "colab": {
          "base_uri": "https://localhost:8080/"
        },
        "id": "Y2pUGSAYHFwi",
        "outputId": "69ee9882-5adf-4b4d-f9e4-85c7fab39103"
      },
      "execution_count": null,
      "outputs": [
        {
          "output_type": "stream",
          "name": "stdout",
          "text": [
            "\n",
            "=== Adaboost Metrics ===\n",
            "Accuracy: 64.00%\n",
            "Precision: 63.82%\n",
            "Recall: 65.80%\n",
            "F1-Score: 64.80%\n",
            "AUC: 69.40%\n"
          ]
        }
      ]
    },
    {
      "cell_type": "markdown",
      "source": [
        "**XGBoost**"
      ],
      "metadata": {
        "id": "obNtz9GlHgKZ"
      }
    },
    {
      "cell_type": "code",
      "source": [
        "xgb_model = XGBClassifier(\n",
        "    n_estimators=100,\n",
        "    learning_rate=0.1,\n",
        "    max_depth=5,\n",
        "    subsample=0.8,\n",
        "    colsample_bytree=0.8,\n",
        "    random_state=42,\n",
        "    use_label_encoder=False,\n",
        "    eval_metric=\"logloss\"\n",
        ")\n",
        "xgb_model.fit(X_train_smote_scaled, y_train_smote)\n",
        "\n",
        "y_pred = xgb_model.predict(X_test_smote_scaled)\n",
        "y_prob_xgb = xgb_model.predict_proba(X_test_smote_scaled)[:, 1]\n",
        "\n",
        "accuracy = accuracy_score(y_test_smote, y_pred) * 100\n",
        "precision = precision_score(y_test_smote, y_pred) * 100\n",
        "recall = recall_score(y_test_smote, y_pred) * 100\n",
        "f1 = f1_score(y_test_smote, y_pred) * 100\n",
        "auc_xgb = roc_auc_score(y_test_smote, y_prob_xgb) * 100\n",
        "\n",
        "print_metrics(\"XGBoost\", accuracy, precision, recall, f1, auc_xgb)"
      ],
      "metadata": {
        "colab": {
          "base_uri": "https://localhost:8080/"
        },
        "id": "JUPGEhGEHlUB",
        "outputId": "43a49601-7fae-48e6-8352-1896fed9bd85"
      },
      "execution_count": null,
      "outputs": [
        {
          "output_type": "stream",
          "name": "stderr",
          "text": [
            "/usr/local/lib/python3.11/dist-packages/xgboost/core.py:158: UserWarning: [06:44:41] WARNING: /workspace/src/learner.cc:740: \n",
            "Parameters: { \"use_label_encoder\" } are not used.\n",
            "\n",
            "  warnings.warn(smsg, UserWarning)\n"
          ]
        },
        {
          "output_type": "stream",
          "name": "stdout",
          "text": [
            "\n",
            "=== XGBoost Metrics ===\n",
            "Accuracy: 72.21%\n",
            "Precision: 75.42%\n",
            "Recall: 66.46%\n",
            "F1-Score: 70.66%\n",
            "AUC: 79.91%\n"
          ]
        }
      ]
    },
    {
      "cell_type": "code",
      "source": [
        "# Base learners\n",
        "estimators = [\n",
        "    ('lr', LogisticRegression(C=0.01, penalty='l2', solver='liblinear', class_weight='balanced', random_state=42)),\n",
        "    ('rf', RandomForestClassifier(n_estimators=300, max_depth=10, min_samples_split=10, min_samples_leaf=4, class_weight='balanced', random_state=42)),\n",
        "    ('nb', GaussianNB()),\n",
        "    ('ada', AdaBoostClassifier(estimator=DecisionTreeClassifier(max_depth=1), n_estimators=100, learning_rate=0.5, random_state=42)),\n",
        "    ('xgb', XGBClassifier(n_estimators=200, learning_rate=0.05, max_depth=4, subsample=0.8, colsample_bytree=0.8, random_state=42, eval_metric=\"logloss\"))\n",
        "]\n",
        "\n",
        "# Meta-learner\n",
        "final_estimator = LogisticRegression(class_weight='balanced', solver='liblinear', random_state=42)\n",
        "\n",
        "# Stacking Classifier\n",
        "stacking_model = StackingClassifier(\n",
        "    estimators=estimators,\n",
        "    final_estimator=final_estimator,\n",
        "    passthrough=True,\n",
        "    cv=5,\n",
        "    n_jobs=-1\n",
        ")\n",
        "\n",
        "# Fit the model\n",
        "stacking_model.fit(X_train_smote_scaled, y_train_smote)\n",
        "\n",
        "# Predict probabilities and adjust threshold\n",
        "y_prob_stack = stacking_model.predict_proba(X_test_smote_scaled)[:, 1]\n",
        "y_pred_stack = np.where(y_prob_stack > 0.4, 1, 0)\n",
        "\n",
        "# Metrics\n",
        "accuracy = accuracy_score(y_test_smote, y_pred_stack) * 100\n",
        "precision = precision_score(y_test_smote, y_pred_stack) * 100\n",
        "recall = recall_score(y_test_smote, y_pred_stack) * 100\n",
        "f1 = f1_score(y_test_smote, y_pred_stack) * 100\n",
        "auc = roc_auc_score(y_test_smote, y_prob_stack) * 100\n",
        "\n",
        "print_metrics(\"Stacking Ensemble\", accuracy, precision, recall, f1, auc)\n"
      ],
      "metadata": {
        "colab": {
          "base_uri": "https://localhost:8080/"
        },
        "id": "jn5i8yaTo49Z",
        "outputId": "f4611b1a-2a0d-48f2-eb8e-f93ac7205a53"
      },
      "execution_count": null,
      "outputs": [
        {
          "output_type": "stream",
          "name": "stdout",
          "text": [
            "\n",
            "=== Stacking Ensemble Metrics ===\n",
            "Accuracy: 69.75%\n",
            "Precision: 67.31%\n",
            "Recall: 77.61%\n",
            "F1-Score: 72.09%\n",
            "AUC: 79.12%\n"
          ]
        }
      ]
    },
    {
      "cell_type": "markdown",
      "source": [
        "**ROC Curves**"
      ],
      "metadata": {
        "id": "-jCCrqB5NGCZ"
      }
    },
    {
      "cell_type": "code",
      "source": [
        "from sklearn.metrics import auc\n",
        "\n",
        "models = {\n",
        "    \"Logistic Regression\": y_prob_lr,\n",
        "    \"Decision Tree\": y_prob_dt,\n",
        "    \"Random Forest\": y_prob_rf,\n",
        "    \"Naïve Bayes\": y_prob_nb,\n",
        "    \"AdaBoost\": y_prob_ada,\n",
        "    \"XGBoost\": y_prob_xgb,\n",
        "    \"Stacking ensemble\": y_prob_stack\n",
        "}\n",
        "\n",
        "plt.figure(figsize=(10, 6))\n",
        "\n",
        "for model_name, y_prob in models.items():\n",
        "    fpr, tpr, _ = roc_curve(y_test_smote, y_prob)\n",
        "    roc_auc = auc(fpr, tpr)\n",
        "    plt.plot(fpr, tpr, label=f\"{model_name} (AUC = {roc_auc*100:.2f})\")\n",
        "\n",
        "plt.plot([0, 1], [0, 1], linestyle=\"--\", color=\"gray\", label=\"Random Guessing\")\n",
        "\n",
        "plt.xlabel(\"False Positive Rate (FPR)\")\n",
        "plt.ylabel(\"True Positive Rate (TPR)\")\n",
        "plt.title(\"ROC Curves for All Models\")\n",
        "plt.legend(loc=\"lower right\")\n",
        "plt.grid()\n",
        "plt.show()"
      ],
      "metadata": {
        "colab": {
          "base_uri": "https://localhost:8080/",
          "height": 564
        },
        "id": "j8K3P3YdNHte",
        "outputId": "ffed2359-4419-4288-d9c7-7d7db6c0e440"
      },
      "execution_count": null,
      "outputs": [
        {
          "output_type": "display_data",
          "data": {
            "text/plain": [
              "<Figure size 1000x600 with 1 Axes>"
            ],
            "image/png": "[encoded data removed]"
          },
          "metadata": {}
        }
      ]
    },
    {
      "cell_type": "code",
      "source": [
        "for model_name, y_prob in models.items():\n",
        "    print(f\"{model_name}: y_test_smote = {len(y_test_smote)}, y_prob = {len(y_prob)}\")\n"
      ],
      "metadata": {
        "colab": {
          "base_uri": "https://localhost:8080/"
        },
        "id": "6CcKzu17lCXs",
        "outputId": "f6d3be4a-6365-4508-e793-a8ccd12ac599"
      },
      "execution_count": null,
      "outputs": [
        {
          "output_type": "stream",
          "name": "stdout",
          "text": [
            "Logistic Regression: y_test_smote = 14535, y_prob = 14535\n",
            "Decision Tree: y_test_smote = 14535, y_prob = 14535\n",
            "Random Forest: y_test_smote = 14535, y_prob = 14535\n",
            "Naïve Bayes: y_test_smote = 14535, y_prob = 14535\n",
            "AdaBoost: y_test_smote = 14535, y_prob = 14535\n",
            "XGBoost: y_test_smote = 14535, y_prob = 14535\n"
          ]
        }
      ]
    }
  ]
}